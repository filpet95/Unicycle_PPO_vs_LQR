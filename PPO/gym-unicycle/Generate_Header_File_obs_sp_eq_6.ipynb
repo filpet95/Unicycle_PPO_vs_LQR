{
 "cells": [
  {
   "cell_type": "code",
   "execution_count": 2,
   "metadata": {},
   "outputs": [],
   "source": [
    "import matplotlib.pyplot as plt\n",
    "import numpy as np\n",
    "import math\n",
    "import os\n",
    "\n"
   ]
  },
  {
   "cell_type": "code",
   "execution_count": 7,
   "metadata": {},
   "outputs": [
    {
     "name": "stdout",
     "output_type": "stream",
     "text": [
      "[-2.72517593 10.95716873]\n"
     ]
    }
   ],
   "source": [
    "npmodel = np.load('/Users/Maria/Documents/skolinn/Chalmers/thesis/Unicycle_Project/Deep_learning/Python_DL2/gym-unicycle/models2/models/ppo2_system_env_v47.pkl')\n",
    "\n",
    "entire_data = npmodel[1]\n",
    "pi_fc0_w = entire_data[0]\n",
    "pi_fc0_b = entire_data[1]\n",
    "\n",
    "pi_fc1_w = entire_data[4]\n",
    "pi_fc1_b = entire_data[5]\n",
    "\n",
    "pi_w = entire_data[10]\n",
    "pi_b = entire_data[11]\n",
    "\n",
    "pi_logstd = entire_data[12]\n",
    "\n",
    "test_obs = np.array([0.1,0.1,0.1,0.1,1*np.pi/180,1*np.pi/180])\n",
    "\n",
    "out1 = np.tanh(pi_fc0_w.transpose()@test_obs + pi_fc0_b)\n",
    "out2 = np.tanh(pi_fc1_w.transpose()@out1 + pi_fc1_b)\n",
    "out3 = pi_w.transpose()@out2 + pi_b\n",
    "#print(pi_w)\n",
    "print(out3)"
   ]
  },
  {
   "cell_type": "markdown",
   "metadata": {},
   "source": [
    "# OBSERVATION SPACE = 6"
   ]
  },
  {
   "cell_type": "code",
   "execution_count": 8,
   "metadata": {},
   "outputs": [],
   "source": [
    "#file.close()\n",
    "os.remove(\"../../../ESP_code/Unicycle_v47/DL.h\")\n",
    "#file.close()\n",
    "file = open(\"../../../ESP_code/Unicycle_v47/DL.h\", \"a\")\n",
    "\n",
    "file.write(\"#include \\\"Arduino.h\\\"\\n\")\n",
    "file.write(\"\\n\")\n",
    "file.write(\"void DL(double state[6], double input[2]);\\n\")\n",
    "\n",
    "file.write(\"\\n\")\n",
    "file.write(\"const double pi_fc0_w [384] = \\n{ \\n\")\n",
    "for i in range(64):\n",
    "    for j in range(6):\n",
    "        if i*6+j < 383:\n",
    "            file.write(\"%.32f, \"%pi_fc0_w[j][i])\n",
    "        else: file.write(\"%.32f \"%pi_fc0_w[j][i])\n",
    "    file.write(\"\\n\")\n",
    "file.write(\"};\\n\")\n",
    "\n",
    "file.write(\"\\n\")\n",
    "file.write(\"const double pi_fc0_b [64] = \\n{\\n\")\n",
    "for i in range(int(np.ceil(64/6))):\n",
    "    for j in range(6):\n",
    "        if i*6+j < 63:\n",
    "            file.write(\"%.32f, \"%pi_fc0_b[i*6+j])\n",
    "        elif i*6+j == 63: \n",
    "            file.write(\"%.32f \"%pi_fc0_b[i*6+j])\n",
    "    file.write(\"\\n\")\n",
    "file.write(\"};\\n\")\n",
    "\n",
    "file.write(\"\\n\")\n",
    "file.write(\"const double pi_fc1_w [4096] = \\n{ \\n\")\n",
    "for i in range(64):\n",
    "    for j in range(int(np.ceil(64/6))):\n",
    "        for k in range(6):\n",
    "            if j*6 + k < 64:\n",
    "                if i*6+j*6 + k < 4096:\n",
    "                    file.write(\"%.32f, \"%pi_fc1_w[j*6+k][i])\n",
    "                else: \n",
    "                    file.write(\"%.32f \"%pi_fc1_w[j*6+k][i])\n",
    "        file.write(\"\\n\")\n",
    "file.write(\"};\\n\")\n",
    "\n",
    "file.write(\"\\n\")\n",
    "file.write(\"const double pi_fc1_b [64] = \\n{\\n\")\n",
    "for i in range(int(np.ceil(64/6))):\n",
    "    for j in range(6):\n",
    "        if i*6+j < 63:\n",
    "            file.write(\"%.32f, \"%pi_fc1_b[i*6+j])\n",
    "        elif i*6+j == 63: \n",
    "            file.write(\"%.32f \"%pi_fc1_b[i*6+j])\n",
    "    file.write(\"\\n\")\n",
    "file.write(\"};\\n\")\n",
    "\n",
    "file.write(\"\\n\")\n",
    "file.write(\"const double pi_w [128] = \\n{\\n\")\n",
    "for i in range(2):\n",
    "    for j in range(int(np.ceil(64/6))):\n",
    "        for k in range(6):\n",
    "            if j*6 + k < 64:\n",
    "                if i*6+j*6 + k < 128:\n",
    "                    file.write(\"%.32f, \"%pi_w[j*6+k][i])\n",
    "                else: \n",
    "                    file.write(\"%.32f \"%pi_w[j][i])\n",
    "        file.write(\"\\n\")\n",
    "file.write(\"};\\n\")\n",
    "\n",
    "file.write(\"\\n\")\n",
    "file.write(\"const double pi_b [2] = \\n{\\n\")\n",
    "file.write(\"%.32f, \"%pi_b[0])\n",
    "file.write(\"%.32f\\n \"%pi_b[1])\n",
    "file.write(\"};\\n\")\n",
    "\n",
    "#np.savetxt(file,\"#include \\\"Arduino.h\\\" \")\n",
    "#np.savetxt(file, pi_fc0_w)\n",
    "\n",
    "#np.savetxt(file, pi_fc0_b.reshape(1,len(pi_fc0_b)))\n",
    "\n",
    "#np.savetxt(file, pi_fc1_w)\n",
    "\n",
    "#np.savetxt(file, pi_fc1_b.reshape(1,len(pi_fc1_b)))\n",
    "\n",
    "#np.savetxt(file, pi_w.reshape(2,64))\n",
    "\n",
    "#np.savetxt(file, pi_b.reshape(1,len(pi_b)))\n",
    "\n",
    "\n",
    "file.close()"
   ]
  },
  {
   "cell_type": "code",
   "execution_count": null,
   "metadata": {},
   "outputs": [],
   "source": []
  },
  {
   "cell_type": "code",
   "execution_count": null,
   "metadata": {},
   "outputs": [],
   "source": []
  }
 ],
 "metadata": {
  "kernelspec": {
   "display_name": "Python 3",
   "language": "python",
   "name": "python3"
  },
  "language_info": {
   "codemirror_mode": {
    "name": "ipython",
    "version": 3
   },
   "file_extension": ".py",
   "mimetype": "text/x-python",
   "name": "python",
   "nbconvert_exporter": "python",
   "pygments_lexer": "ipython3",
   "version": "3.6.5"
  }
 },
 "nbformat": 4,
 "nbformat_minor": 2
}
